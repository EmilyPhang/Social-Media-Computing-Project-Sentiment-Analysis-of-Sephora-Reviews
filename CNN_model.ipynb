{
  "nbformat": 4,
  "nbformat_minor": 0,
  "metadata": {
    "colab": {
      "provenance": [],
      "gpuType": "T4",
      "authorship_tag": "ABX9TyOaefDsJ3T+DjsYkE8EO4rJ",
      "include_colab_link": true
    },
    "kernelspec": {
      "name": "python3",
      "display_name": "Python 3"
    },
    "language_info": {
      "name": "python"
    },
    "accelerator": "GPU"
  },
  "cells": [
    {
      "cell_type": "markdown",
      "metadata": {
        "id": "view-in-github",
        "colab_type": "text"
      },
      "source": [
        "<a href=\"https://colab.research.google.com/github/EmilyPhang/Social-Media-Computing-Project-Sentiment-Analysis-of-Sephora-Reviews/blob/main/CNN_model.ipynb\" target=\"_parent\"><img src=\"https://colab.research.google.com/assets/colab-badge.svg\" alt=\"Open In Colab\"/></a>"
      ]
    },
    {
      "cell_type": "code",
      "execution_count": 1,
      "metadata": {
        "id": "T2BVjuIjssEX"
      },
      "outputs": [],
      "source": [
        "import pandas as pd\n",
        "import numpy as np\n",
        "from sklearn.model_selection import StratifiedKFold\n",
        "from sklearn.preprocessing import LabelEncoder\n",
        "from sklearn.metrics import accuracy_score, precision_score, recall_score, f1_score, confusion_matrix, classification_report\n",
        "import tensorflow as tf\n",
        "from tensorflow.keras.preprocessing.text import Tokenizer\n",
        "from tensorflow.keras.preprocessing.sequence import pad_sequences\n",
        "from tensorflow.keras.models import Sequential\n",
        "from tensorflow.keras.layers import Embedding, Conv1D, GlobalMaxPooling1D, Dense, Dropout\n",
        "from tensorflow.keras.callbacks import EarlyStopping\n",
        "import seaborn as sns\n",
        "import matplotlib.pyplot as pl"
      ]
    },
    {
      "cell_type": "code",
      "source": [
        "# Mount Google Drive\n",
        "from google.colab import drive\n",
        "drive.mount('/content/drive')"
      ],
      "metadata": {
        "colab": {
          "base_uri": "https://localhost:8080/"
        },
        "id": "tbCOt3s8uQLY",
        "outputId": "996920c7-1aa0-4746-f0d7-5ebc4af6e0f8"
      },
      "execution_count": 2,
      "outputs": [
        {
          "output_type": "stream",
          "name": "stdout",
          "text": [
            "Mounted at /content/drive\n"
          ]
        }
      ]
    },
    {
      "cell_type": "code",
      "source": [
        "# Load Split Data\n",
        "train_df = pd.read_csv(\"/content/drive/MyDrive/Dataset/train.csv\")\n",
        "val_df = pd.read_csv(\"/content/drive/MyDrive/Dataset/val.csv\")\n",
        "test_df = pd.read_csv(\"/content/drive/MyDrive/Dataset/test.csv\")"
      ],
      "metadata": {
        "id": "zdgUOZAjuRWt"
      },
      "execution_count": 3,
      "outputs": []
    },
    {
      "cell_type": "code",
      "source": [
        "# Label Encoding\n",
        "label_encoder = LabelEncoder()\n",
        "train_df['label'] = label_encoder.fit_transform(train_df['sentiment_label'])\n",
        "val_df['label'] = label_encoder.transform(val_df['sentiment_label'])\n",
        "test_df['label'] = label_encoder.transform(test_df['sentiment_label'])"
      ],
      "metadata": {
        "id": "yhkaDBzbuSry"
      },
      "execution_count": 4,
      "outputs": []
    },
    {
      "cell_type": "code",
      "source": [
        "# Parameters for Tokenization\n",
        "vocab_size = 10000  # Vocabulary size\n",
        "max_length = 128    # Maximum sequence length\n",
        "embedding_dim = 100 # Embedding dimension"
      ],
      "metadata": {
        "id": "rpJk4ciKuT6P"
      },
      "execution_count": 5,
      "outputs": []
    },
    {
      "cell_type": "code",
      "source": [
        "# Tokenization\n",
        "tokenizer = Tokenizer(num_words=vocab_size, oov_token=\"<OOV>\")\n",
        "tokenizer.fit_on_texts(train_df['cleaned_review'])"
      ],
      "metadata": {
        "id": "nidkRzSpuVY9"
      },
      "execution_count": 6,
      "outputs": []
    },
    {
      "cell_type": "code",
      "source": [
        "# Prepare cross-validation\n",
        "skf = StratifiedKFold(n_splits=5, shuffle=True, random_state=42)\n",
        "all_preds = []\n",
        "all_labels = []\n",
        "results = []\n",
        "fold = 1"
      ],
      "metadata": {
        "id": "jJ4zfB7muWq7"
      },
      "execution_count": 7,
      "outputs": []
    },
    {
      "cell_type": "code",
      "source": [
        "def build_cnn_model():\n",
        "    model = Sequential([\n",
        "        Embedding(vocab_size, embedding_dim, input_length=max_length),\n",
        "        Conv1D(128, 5, activation='relu'),\n",
        "        GlobalMaxPooling1D(),\n",
        "        Dense(64, activation='relu'),\n",
        "        Dropout(0.5),\n",
        "        Dense(3, activation='softmax')  # 3 classes for sentiment\n",
        "    ])\n",
        "    model.compile(optimizer='adam', loss='sparse_categorical_crossentropy', metrics=['accuracy'])\n",
        "    return model\n",
        "\n",
        "def compute_metrics(y_true, y_pred):\n",
        "    precision = precision_score(y_true, y_pred, average='macro')\n",
        "    recall = recall_score(y_true, y_pred, average='macro')\n",
        "    f1 = f1_score(y_true, y_pred, average='macro')\n",
        "    acc = accuracy_score(y_true, y_pred)\n",
        "    return {\n",
        "        \"accuracy\": acc,\n",
        "        \"precision\": precision,\n",
        "        \"recall\": recall,\n",
        "        \"f1\": f1,\n",
        "    }"
      ],
      "metadata": {
        "id": "--qj3gSWuX4H"
      },
      "execution_count": 8,
      "outputs": []
    },
    {
      "cell_type": "code",
      "source": [
        "for train_index, val_index in skf.split(train_df['cleaned_review'], train_df['label']):\n",
        "    print(f\"\\nFold {fold}/5\")\n",
        "\n",
        "    # Split data\n",
        "    train_fold = train_df.iloc[train_index].copy()\n",
        "    val_fold = train_df.iloc[val_index].copy()\n",
        "\n",
        "    # Convert text to sequences\n",
        "    train_sequences = tokenizer.texts_to_sequences(train_fold['cleaned_review'].astype(str))\n",
        "    val_sequences = tokenizer.texts_to_sequences(val_fold['cleaned_review'].astype(str))\n",
        "\n",
        "    # Pad sequences\n",
        "    train_padded = pad_sequences(train_sequences, maxlen=max_length, padding='post', truncating='post')\n",
        "    val_padded = pad_sequences(val_sequences, maxlen=max_length, padding='post', truncating='post')\n",
        "\n",
        "    # Labels\n",
        "    train_labels = train_fold['label'].values\n",
        "    val_labels = val_fold['label'].values\n",
        "\n",
        "    # Build and train model\n",
        "    model = build_cnn_model()\n",
        "    early_stopping = EarlyStopping(monitor='val_loss', patience=2, restore_best_weights=True)\n",
        "\n",
        "    model.fit(\n",
        "        train_padded, train_labels,\n",
        "        epochs=10,\n",
        "        batch_size=16,\n",
        "        validation_data=(val_padded, val_labels),\n",
        "        callbacks=[early_stopping],\n",
        "        verbose=1\n",
        "    )\n",
        "\n",
        "    # Predict on validation fold\n",
        "    val_preds = np.argmax(model.predict(val_padded), axis=1)\n",
        "\n",
        "    all_preds.extend(val_preds)\n",
        "    all_labels.extend(val_labels)\n",
        "\n",
        "    # Compute metrics\n",
        "    metrics = compute_metrics(val_labels, val_preds)\n",
        "    cm = confusion_matrix(val_labels, val_preds)\n",
        "\n",
        "    if cm.shape[0] == 3:\n",
        "        tp = np.diag(cm).sum()\n",
        "        fn = cm.sum(axis=1) - np.diag(cm)\n",
        "        fp = cm.sum(axis=0) - np.diag(cm)\n",
        "        tn = cm.sum() - (fp + fn + np.diag(cm))\n",
        "        fn = fn.sum()\n",
        "        fp = fp.sum()\n",
        "        tn = tn.sum()\n",
        "    else:\n",
        "        tn, fp, fn, tp = [0] * 4\n",
        "\n",
        "    results.append({\n",
        "        \"Fold\": fold,\n",
        "        \"Accuracy\": metrics[\"accuracy\"],\n",
        "        \"Precision\": metrics[\"precision\"],\n",
        "        \"Recall\": metrics[\"recall\"],\n",
        "        \"F1 Score\": metrics[\"f1\"],\n",
        "        \"TP\": tp,\n",
        "        \"TN\": tn,\n",
        "        \"FP\": fp,\n",
        "        \"FN\": fn\n",
        "    })\n",
        "\n",
        "    fold += 1"
      ],
      "metadata": {
        "colab": {
          "base_uri": "https://localhost:8080/"
        },
        "id": "HxxIfGlfuaBm",
        "outputId": "6907ed68-06da-4b33-f752-a1ea1739860d"
      },
      "execution_count": 9,
      "outputs": [
        {
          "output_type": "stream",
          "name": "stdout",
          "text": [
            "\n",
            "Fold 1/5\n"
          ]
        },
        {
          "output_type": "stream",
          "name": "stderr",
          "text": [
            "/usr/local/lib/python3.11/dist-packages/keras/src/layers/core/embedding.py:90: UserWarning: Argument `input_length` is deprecated. Just remove it.\n",
            "  warnings.warn(\n"
          ]
        },
        {
          "output_type": "stream",
          "name": "stdout",
          "text": [
            "Epoch 1/10\n",
            "\u001b[1m234/234\u001b[0m \u001b[32m━━━━━━━━━━━━━━━━━━━━\u001b[0m\u001b[37m\u001b[0m \u001b[1m9s\u001b[0m 10ms/step - accuracy: 0.3860 - loss: 1.0815 - val_accuracy: 0.5716 - val_loss: 0.8581\n",
            "Epoch 2/10\n",
            "\u001b[1m234/234\u001b[0m \u001b[32m━━━━━━━━━━━━━━━━━━━━\u001b[0m\u001b[37m\u001b[0m \u001b[1m4s\u001b[0m 4ms/step - accuracy: 0.6335 - loss: 0.7773 - val_accuracy: 0.6677 - val_loss: 0.6945\n",
            "Epoch 3/10\n",
            "\u001b[1m234/234\u001b[0m \u001b[32m━━━━━━━━━━━━━━━━━━━━\u001b[0m\u001b[37m\u001b[0m \u001b[1m1s\u001b[0m 4ms/step - accuracy: 0.7966 - loss: 0.4889 - val_accuracy: 0.6870 - val_loss: 0.6465\n",
            "Epoch 4/10\n",
            "\u001b[1m234/234\u001b[0m \u001b[32m━━━━━━━━━━━━━━━━━━━━\u001b[0m\u001b[37m\u001b[0m \u001b[1m1s\u001b[0m 4ms/step - accuracy: 0.9192 - loss: 0.2623 - val_accuracy: 0.6880 - val_loss: 0.6887\n",
            "Epoch 5/10\n",
            "\u001b[1m234/234\u001b[0m \u001b[32m━━━━━━━━━━━━━━━━━━━━\u001b[0m\u001b[37m\u001b[0m \u001b[1m1s\u001b[0m 4ms/step - accuracy: 0.9711 - loss: 0.1109 - val_accuracy: 0.6848 - val_loss: 0.8319\n",
            "\u001b[1m30/30\u001b[0m \u001b[32m━━━━━━━━━━━━━━━━━━━━\u001b[0m\u001b[37m\u001b[0m \u001b[1m1s\u001b[0m 10ms/step\n",
            "\n",
            "Fold 2/5\n",
            "Epoch 1/10\n"
          ]
        },
        {
          "output_type": "stream",
          "name": "stderr",
          "text": [
            "/usr/local/lib/python3.11/dist-packages/keras/src/layers/core/embedding.py:90: UserWarning: Argument `input_length` is deprecated. Just remove it.\n",
            "  warnings.warn(\n"
          ]
        },
        {
          "output_type": "stream",
          "name": "stdout",
          "text": [
            "\u001b[1m234/234\u001b[0m \u001b[32m━━━━━━━━━━━━━━━━━━━━\u001b[0m\u001b[37m\u001b[0m \u001b[1m4s\u001b[0m 7ms/step - accuracy: 0.3790 - loss: 1.0737 - val_accuracy: 0.5833 - val_loss: 0.8976\n",
            "Epoch 2/10\n",
            "\u001b[1m234/234\u001b[0m \u001b[32m━━━━━━━━━━━━━━━━━━━━\u001b[0m\u001b[37m\u001b[0m \u001b[1m1s\u001b[0m 5ms/step - accuracy: 0.6362 - loss: 0.7998 - val_accuracy: 0.6506 - val_loss: 0.7577\n",
            "Epoch 3/10\n",
            "\u001b[1m234/234\u001b[0m \u001b[32m━━━━━━━━━━━━━━━━━━━━\u001b[0m\u001b[37m\u001b[0m \u001b[1m1s\u001b[0m 6ms/step - accuracy: 0.7880 - loss: 0.5145 - val_accuracy: 0.6709 - val_loss: 0.7545\n",
            "Epoch 4/10\n",
            "\u001b[1m234/234\u001b[0m \u001b[32m━━━━━━━━━━━━━━━━━━━━\u001b[0m\u001b[37m\u001b[0m \u001b[1m1s\u001b[0m 6ms/step - accuracy: 0.8978 - loss: 0.3029 - val_accuracy: 0.6731 - val_loss: 0.8138\n",
            "Epoch 5/10\n",
            "\u001b[1m234/234\u001b[0m \u001b[32m━━━━━━━━━━━━━━━━━━━━\u001b[0m\u001b[37m\u001b[0m \u001b[1m2s\u001b[0m 5ms/step - accuracy: 0.9646 - loss: 0.1382 - val_accuracy: 0.6677 - val_loss: 0.9653\n",
            "\u001b[1m30/30\u001b[0m \u001b[32m━━━━━━━━━━━━━━━━━━━━\u001b[0m\u001b[37m\u001b[0m \u001b[1m0s\u001b[0m 9ms/step\n",
            "\n",
            "Fold 3/5\n",
            "Epoch 1/10\n"
          ]
        },
        {
          "output_type": "stream",
          "name": "stderr",
          "text": [
            "/usr/local/lib/python3.11/dist-packages/keras/src/layers/core/embedding.py:90: UserWarning: Argument `input_length` is deprecated. Just remove it.\n",
            "  warnings.warn(\n"
          ]
        },
        {
          "output_type": "stream",
          "name": "stdout",
          "text": [
            "\u001b[1m234/234\u001b[0m \u001b[32m━━━━━━━━━━━━━━━━━━━━\u001b[0m\u001b[37m\u001b[0m \u001b[1m4s\u001b[0m 7ms/step - accuracy: 0.3875 - loss: 1.0830 - val_accuracy: 0.5288 - val_loss: 0.9064\n",
            "Epoch 2/10\n",
            "\u001b[1m234/234\u001b[0m \u001b[32m━━━━━━━━━━━━━━━━━━━━\u001b[0m\u001b[37m\u001b[0m \u001b[1m1s\u001b[0m 4ms/step - accuracy: 0.5965 - loss: 0.8353 - val_accuracy: 0.6752 - val_loss: 0.7122\n",
            "Epoch 3/10\n",
            "\u001b[1m234/234\u001b[0m \u001b[32m━━━━━━━━━━━━━━━━━━━━\u001b[0m\u001b[37m\u001b[0m \u001b[1m1s\u001b[0m 5ms/step - accuracy: 0.7654 - loss: 0.5491 - val_accuracy: 0.6731 - val_loss: 0.6925\n",
            "Epoch 4/10\n",
            "\u001b[1m234/234\u001b[0m \u001b[32m━━━━━━━━━━━━━━━━━━━━\u001b[0m\u001b[37m\u001b[0m \u001b[1m1s\u001b[0m 5ms/step - accuracy: 0.8701 - loss: 0.3509 - val_accuracy: 0.6955 - val_loss: 0.7545\n",
            "Epoch 5/10\n",
            "\u001b[1m234/234\u001b[0m \u001b[32m━━━━━━━━━━━━━━━━━━━━\u001b[0m\u001b[37m\u001b[0m \u001b[1m2s\u001b[0m 4ms/step - accuracy: 0.9469 - loss: 0.1942 - val_accuracy: 0.6987 - val_loss: 0.8449\n",
            "\u001b[1m30/30\u001b[0m \u001b[32m━━━━━━━━━━━━━━━━━━━━\u001b[0m\u001b[37m\u001b[0m \u001b[1m0s\u001b[0m 8ms/step\n",
            "\n",
            "Fold 4/5\n",
            "Epoch 1/10\n"
          ]
        },
        {
          "output_type": "stream",
          "name": "stderr",
          "text": [
            "/usr/local/lib/python3.11/dist-packages/keras/src/layers/core/embedding.py:90: UserWarning: Argument `input_length` is deprecated. Just remove it.\n",
            "  warnings.warn(\n"
          ]
        },
        {
          "output_type": "stream",
          "name": "stdout",
          "text": [
            "\u001b[1m234/234\u001b[0m \u001b[32m━━━━━━━━━━━━━━━━━━━━\u001b[0m\u001b[37m\u001b[0m \u001b[1m4s\u001b[0m 7ms/step - accuracy: 0.3816 - loss: 1.0850 - val_accuracy: 0.4957 - val_loss: 0.9730\n",
            "Epoch 2/10\n",
            "\u001b[1m234/234\u001b[0m \u001b[32m━━━━━━━━━━━━━━━━━━━━\u001b[0m\u001b[37m\u001b[0m \u001b[1m1s\u001b[0m 4ms/step - accuracy: 0.6127 - loss: 0.8364 - val_accuracy: 0.6261 - val_loss: 0.7557\n",
            "Epoch 3/10\n",
            "\u001b[1m234/234\u001b[0m \u001b[32m━━━━━━━━━━━━━━━━━━━━\u001b[0m\u001b[37m\u001b[0m \u001b[1m1s\u001b[0m 4ms/step - accuracy: 0.7965 - loss: 0.5146 - val_accuracy: 0.6571 - val_loss: 0.7414\n",
            "Epoch 4/10\n",
            "\u001b[1m234/234\u001b[0m \u001b[32m━━━━━━━━━━━━━━━━━━━━\u001b[0m\u001b[37m\u001b[0m \u001b[1m1s\u001b[0m 4ms/step - accuracy: 0.9096 - loss: 0.2783 - val_accuracy: 0.6474 - val_loss: 0.8662\n",
            "Epoch 5/10\n",
            "\u001b[1m234/234\u001b[0m \u001b[32m━━━━━━━━━━━━━━━━━━━━\u001b[0m\u001b[37m\u001b[0m \u001b[1m2s\u001b[0m 5ms/step - accuracy: 0.9679 - loss: 0.1205 - val_accuracy: 0.6603 - val_loss: 1.0442\n",
            "\u001b[1m30/30\u001b[0m \u001b[32m━━━━━━━━━━━━━━━━━━━━\u001b[0m\u001b[37m\u001b[0m \u001b[1m1s\u001b[0m 12ms/step\n",
            "\n",
            "Fold 5/5\n",
            "Epoch 1/10\n"
          ]
        },
        {
          "output_type": "stream",
          "name": "stderr",
          "text": [
            "/usr/local/lib/python3.11/dist-packages/keras/src/layers/core/embedding.py:90: UserWarning: Argument `input_length` is deprecated. Just remove it.\n",
            "  warnings.warn(\n"
          ]
        },
        {
          "output_type": "stream",
          "name": "stdout",
          "text": [
            "\u001b[1m234/234\u001b[0m \u001b[32m━━━━━━━━━━━━━━━━━━━━\u001b[0m\u001b[37m\u001b[0m \u001b[1m4s\u001b[0m 6ms/step - accuracy: 0.3781 - loss: 1.0786 - val_accuracy: 0.5684 - val_loss: 0.9315\n",
            "Epoch 2/10\n",
            "\u001b[1m234/234\u001b[0m \u001b[32m━━━━━━━━━━━━━━━━━━━━\u001b[0m\u001b[37m\u001b[0m \u001b[1m1s\u001b[0m 4ms/step - accuracy: 0.6318 - loss: 0.8117 - val_accuracy: 0.6859 - val_loss: 0.7110\n",
            "Epoch 3/10\n",
            "\u001b[1m234/234\u001b[0m \u001b[32m━━━━━━━━━━━━━━━━━━━━\u001b[0m\u001b[37m\u001b[0m \u001b[1m1s\u001b[0m 4ms/step - accuracy: 0.8152 - loss: 0.4857 - val_accuracy: 0.6987 - val_loss: 0.6821\n",
            "Epoch 4/10\n",
            "\u001b[1m234/234\u001b[0m \u001b[32m━━━━━━━━━━━━━━━━━━━━\u001b[0m\u001b[37m\u001b[0m \u001b[1m1s\u001b[0m 5ms/step - accuracy: 0.9216 - loss: 0.2456 - val_accuracy: 0.6752 - val_loss: 0.7778\n",
            "Epoch 5/10\n",
            "\u001b[1m234/234\u001b[0m \u001b[32m━━━━━━━━━━━━━━━━━━━━\u001b[0m\u001b[37m\u001b[0m \u001b[1m1s\u001b[0m 5ms/step - accuracy: 0.9760 - loss: 0.1066 - val_accuracy: 0.6688 - val_loss: 0.9428\n",
            "\u001b[1m30/30\u001b[0m \u001b[32m━━━━━━━━━━━━━━━━━━━━\u001b[0m\u001b[37m\u001b[0m \u001b[1m0s\u001b[0m 9ms/step\n"
          ]
        }
      ]
    },
    {
      "cell_type": "code",
      "source": [
        "# Display Cross-Validation Results\n",
        "results_df = pd.DataFrame(results)\n",
        "avg_row = results_df[['Accuracy', 'Precision', 'Recall', 'F1 Score', 'TP', 'TN', 'FP', 'FN']].mean()\n",
        "avg_row[\"Fold\"] = \"Average\"\n",
        "avg_row_df = pd.DataFrame([avg_row])\n",
        "results_df = pd.concat([results_df, avg_row_df], ignore_index=True)\n",
        "print(\"\\n5-Fold Cross-Validation Results:\")\n",
        "print(results_df)"
      ],
      "metadata": {
        "colab": {
          "base_uri": "https://localhost:8080/"
        },
        "id": "eIwPMAeJugM2",
        "outputId": "d8a3e382-473c-489e-f37e-ec5e0e59c862"
      },
      "execution_count": 10,
      "outputs": [
        {
          "output_type": "stream",
          "name": "stdout",
          "text": [
            "\n",
            "5-Fold Cross-Validation Results:\n",
            "      Fold  Accuracy  Precision    Recall  F1 Score     TP      TN     FP  \\\n",
            "0        1  0.686966   0.683446  0.686966  0.684487  643.0  1579.0  293.0   \n",
            "1        2  0.670940   0.667683  0.670940  0.662433  628.0  1564.0  308.0   \n",
            "2        3  0.673077   0.707601  0.673077  0.669435  630.0  1566.0  306.0   \n",
            "3        4  0.657051   0.659079  0.657051  0.657952  615.0  1551.0  321.0   \n",
            "4        5  0.698718   0.696700  0.698718  0.697461  654.0  1590.0  282.0   \n",
            "5  Average  0.677350   0.682902  0.677350  0.674354  634.0  1570.0  302.0   \n",
            "\n",
            "      FN  \n",
            "0  293.0  \n",
            "1  308.0  \n",
            "2  306.0  \n",
            "3  321.0  \n",
            "4  282.0  \n",
            "5  302.0  \n"
          ]
        }
      ]
    },
    {
      "cell_type": "code",
      "source": [
        "print(\"\\nClassification Report:\")\n",
        "print(classification_report(all_labels, all_preds, target_names=label_encoder.classes_, digits=4))\n"
      ],
      "metadata": {
        "colab": {
          "base_uri": "https://localhost:8080/"
        },
        "id": "lhE5dgn2ukqq",
        "outputId": "eef659b1-75ef-47f9-8132-0f658831eeb6"
      },
      "execution_count": 11,
      "outputs": [
        {
          "output_type": "stream",
          "name": "stdout",
          "text": [
            "\n",
            "Classification Report:\n",
            "              precision    recall  f1-score   support\n",
            "\n",
            "    negative     0.6821    0.6410    0.6609      1560\n",
            "     neutral     0.5711    0.5795    0.5752      1560\n",
            "    positive     0.7762    0.8115    0.7935      1560\n",
            "\n",
            "    accuracy                         0.6774      4680\n",
            "   macro avg     0.6765    0.6774    0.6766      4680\n",
            "weighted avg     0.6765    0.6774    0.6766      4680\n",
            "\n"
          ]
        }
      ]
    },
    {
      "cell_type": "code",
      "source": [
        "print(\"\\nConfusion Matrix:\")\n",
        "print(confusion_matrix(all_labels, all_preds))"
      ],
      "metadata": {
        "colab": {
          "base_uri": "https://localhost:8080/"
        },
        "id": "2mXY-5C3um5i",
        "outputId": "3fc3204e-a39e-4359-eadb-bbac1d51efff"
      },
      "execution_count": 12,
      "outputs": [
        {
          "output_type": "stream",
          "name": "stdout",
          "text": [
            "\n",
            "Confusion Matrix:\n",
            "[[1000  450  110]\n",
            " [ 401  904  255]\n",
            " [  65  229 1266]]\n"
          ]
        }
      ]
    },
    {
      "cell_type": "code",
      "source": [
        "# Prepare final training on full train set and evaluate on test set\n",
        "train_sequences = tokenizer.texts_to_sequences(train_df['cleaned_review'].astype(str))\n",
        "val_sequences = tokenizer.texts_to_sequences(val_df['cleaned_review'].astype(str))\n",
        "test_sequences = tokenizer.texts_to_sequences(test_df['cleaned_review'].astype(str))"
      ],
      "metadata": {
        "id": "dxYvYRzVunby"
      },
      "execution_count": 13,
      "outputs": []
    },
    {
      "cell_type": "code",
      "source": [
        "train_padded = pad_sequences(train_sequences, maxlen=max_length, padding='post', truncating='post')\n",
        "val_padded = pad_sequences(val_sequences, maxlen=max_length, padding='post', truncating='post')\n",
        "test_padded = pad_sequences(test_sequences, maxlen=max_length, padding='post', truncating='post')"
      ],
      "metadata": {
        "id": "u-ba6EWtupcP"
      },
      "execution_count": 14,
      "outputs": []
    },
    {
      "cell_type": "code",
      "source": [
        "train_labels = train_df['label'].values\n",
        "val_labels = val_df['label'].values\n",
        "test_labels = test_df['label'].values"
      ],
      "metadata": {
        "id": "ibofCSQbuqmc"
      },
      "execution_count": 15,
      "outputs": []
    },
    {
      "cell_type": "code",
      "source": [
        "# Train final model\n",
        "model = build_cnn_model()\n",
        "early_stopping = EarlyStopping(monitor='val_loss', patience=2, restore_best_weights=True)\n",
        "\n",
        "model.fit(\n",
        "    train_padded, train_labels,\n",
        "    epochs=10,\n",
        "    batch_size=16,\n",
        "    validation_data=(val_padded, val_labels),\n",
        "    callbacks=[early_stopping],\n",
        "    verbose=1\n",
        ")"
      ],
      "metadata": {
        "colab": {
          "base_uri": "https://localhost:8080/"
        },
        "id": "nq3ZCTvzutlf",
        "outputId": "3495d75c-f6eb-43b4-e3dc-e55e3d2752ba"
      },
      "execution_count": 16,
      "outputs": [
        {
          "output_type": "stream",
          "name": "stdout",
          "text": [
            "Epoch 1/10\n"
          ]
        },
        {
          "output_type": "stream",
          "name": "stderr",
          "text": [
            "/usr/local/lib/python3.11/dist-packages/keras/src/layers/core/embedding.py:90: UserWarning: Argument `input_length` is deprecated. Just remove it.\n",
            "  warnings.warn(\n"
          ]
        },
        {
          "output_type": "stream",
          "name": "stdout",
          "text": [
            "\u001b[1m293/293\u001b[0m \u001b[32m━━━━━━━━━━━━━━━━━━━━\u001b[0m\u001b[37m\u001b[0m \u001b[1m6s\u001b[0m 11ms/step - accuracy: 0.4065 - loss: 1.0709 - val_accuracy: 0.6244 - val_loss: 0.8160\n",
            "Epoch 2/10\n",
            "\u001b[1m293/293\u001b[0m \u001b[32m━━━━━━━━━━━━━━━━━━━━\u001b[0m\u001b[37m\u001b[0m \u001b[1m1s\u001b[0m 4ms/step - accuracy: 0.6662 - loss: 0.7434 - val_accuracy: 0.6872 - val_loss: 0.6998\n",
            "Epoch 3/10\n",
            "\u001b[1m293/293\u001b[0m \u001b[32m━━━━━━━━━━━━━━━━━━━━\u001b[0m\u001b[37m\u001b[0m \u001b[1m1s\u001b[0m 4ms/step - accuracy: 0.8150 - loss: 0.4652 - val_accuracy: 0.7038 - val_loss: 0.6976\n",
            "Epoch 4/10\n",
            "\u001b[1m293/293\u001b[0m \u001b[32m━━━━━━━━━━━━━━━━━━━━\u001b[0m\u001b[37m\u001b[0m \u001b[1m1s\u001b[0m 4ms/step - accuracy: 0.9058 - loss: 0.2670 - val_accuracy: 0.6917 - val_loss: 0.7941\n",
            "Epoch 5/10\n",
            "\u001b[1m293/293\u001b[0m \u001b[32m━━━━━━━━━━━━━━━━━━━━\u001b[0m\u001b[37m\u001b[0m \u001b[1m1s\u001b[0m 4ms/step - accuracy: 0.9708 - loss: 0.1163 - val_accuracy: 0.6923 - val_loss: 0.9690\n"
          ]
        },
        {
          "output_type": "execute_result",
          "data": {
            "text/plain": [
              "<keras.src.callbacks.history.History at 0x7b57aed30790>"
            ]
          },
          "metadata": {},
          "execution_count": 16
        }
      ]
    },
    {
      "cell_type": "code",
      "source": [
        "# Predict on test set\n",
        "test_preds = np.argmax(model.predict(test_padded), axis=1)"
      ],
      "metadata": {
        "colab": {
          "base_uri": "https://localhost:8080/"
        },
        "id": "WbfP-CV0uuKR",
        "outputId": "943e3f6c-bdc4-4aa8-db6e-95ab484e2c79"
      },
      "execution_count": 17,
      "outputs": [
        {
          "output_type": "stream",
          "name": "stdout",
          "text": [
            "\u001b[1m49/49\u001b[0m \u001b[32m━━━━━━━━━━━━━━━━━━━━\u001b[0m\u001b[37m\u001b[0m \u001b[1m1s\u001b[0m 12ms/step\n"
          ]
        }
      ]
    },
    {
      "cell_type": "code",
      "source": [
        "# Final Evaluation\n",
        "print(\"\\nFinal Test Set Classification Report:\")\n",
        "print(classification_report(test_labels, test_preds, target_names=label_encoder.classes_))"
      ],
      "metadata": {
        "colab": {
          "base_uri": "https://localhost:8080/"
        },
        "id": "lPdbvN0Juwln",
        "outputId": "cce74817-a578-435e-9b29-c913b2a3c3a6"
      },
      "execution_count": 18,
      "outputs": [
        {
          "output_type": "stream",
          "name": "stdout",
          "text": [
            "\n",
            "Final Test Set Classification Report:\n",
            "              precision    recall  f1-score   support\n",
            "\n",
            "    negative       0.70      0.74      0.72       520\n",
            "     neutral       0.63      0.53      0.58       520\n",
            "    positive       0.76      0.85      0.80       520\n",
            "\n",
            "    accuracy                           0.71      1560\n",
            "   macro avg       0.70      0.71      0.70      1560\n",
            "weighted avg       0.70      0.71      0.70      1560\n",
            "\n"
          ]
        }
      ]
    },
    {
      "cell_type": "code",
      "source": [
        "import matplotlib.pyplot as plt\n",
        "\n",
        "# Confusion Matrix Visualization\n",
        "cm = confusion_matrix(test_labels, test_preds)\n",
        "class_names = label_encoder.classes_\n",
        "\n",
        "plt.figure(figsize=(8, 6))\n",
        "sns.heatmap(cm, annot=True, fmt=\"d\", cmap=\"Blues\",\n",
        "            xticklabels=class_names, yticklabels=class_names)\n",
        "plt.title(\"Confusion Matrix\")\n",
        "plt.xlabel(\"Predicted Label\")\n",
        "plt.ylabel(\"True Label\")\n",
        "plt.show()"
      ],
      "metadata": {
        "colab": {
          "base_uri": "https://localhost:8080/",
          "height": 564
        },
        "id": "kLCm6Aviux1o",
        "outputId": "afc8cb02-c02c-4448-dc90-ecadda449007"
      },
      "execution_count": 20,
      "outputs": [
        {
          "output_type": "display_data",
          "data": {
            "text/plain": [
              "<Figure size 800x600 with 2 Axes>"
            ],
            "image/png": "[encoded data removed]"
          },
          "metadata": {}
        }
      ]
    },
    {
      "cell_type": "code",
      "source": [
        "# Save the Final Model and Tokenizer\n",
        "save_directory = \"/content/drive/MyDrive/cnn622/final_model\"\n",
        "model.save(f\"{save_directory}/model.keras\")  # Specify .keras extension\n",
        "import pickle\n",
        "with open(f\"{save_directory}/tokenizer.pkl\", 'wb') as handle:\n",
        "    pickle.dump(tokenizer, handle, protocol=pickle.HIGHEST_PROTOCOL)\n",
        "print(f\"Model and tokenizer saved to {save_directory}\")"
      ],
      "metadata": {
        "colab": {
          "base_uri": "https://localhost:8080/"
        },
        "id": "WU4OeOk_u09O",
        "outputId": "29eae2ff-aac0-43c2-87de-6a225a5304cb"
      },
      "execution_count": 24,
      "outputs": [
        {
          "output_type": "stream",
          "name": "stdout",
          "text": [
            "Model and tokenizer saved to /content/drive/MyDrive/cnn622/final_model\n"
          ]
        }
      ]
    }
  ]
}